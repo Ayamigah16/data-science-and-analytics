{
 "cells": [
  {
   "cell_type": "code",
   "execution_count": 1,
   "metadata": {},
   "outputs": [
    {
     "data": {
      "text/plain": [
       "<re.Match object; span=(6, 9), match='and'>"
      ]
     },
     "execution_count": 1,
     "metadata": {},
     "output_type": "execute_result"
    }
   ],
   "source": [
    "import re\n",
    "\n",
    "# compiling the search pattern\n",
    "search_pattern = re.compile(r\"and\")\n",
    "\n",
    "# using the compiled search pattern to locate that very pattern\n",
    "search_pattern.search(\"Today and tommorrow\")"
   ]
  },
  {
   "cell_type": "code",
   "execution_count": 2,
   "metadata": {},
   "outputs": [
    {
     "data": {
      "text/plain": [
       "<re.Match object; span=(6, 9), match='and'>"
      ]
     },
     "execution_count": 2,
     "metadata": {},
     "output_type": "execute_result"
    }
   ],
   "source": [
    "# combining the two lines of code above\n",
    "re.search('and', 'Today and Tomorrow')"
   ]
  },
  {
   "cell_type": "markdown",
   "metadata": {},
   "source": [
    "## Some Regex Functions"
   ]
  },
  {
   "cell_type": "code",
   "execution_count": 3,
   "metadata": {},
   "outputs": [
    {
     "name": "stdout",
     "output_type": "stream",
     "text": [
      "['3', '3', '3']\n",
      "<re.Match object; span=(0, 1), match='a'>\n",
      "<re.Match object; span=(0, 1), match='3'>\n",
      "['', '92jk01211122', '4', '']\n",
      "Never cct Like Mcnncn\n"
     ]
    }
   ],
   "source": [
    "# findall() -> searches all possible outcomes\n",
    "print(re.findall('3', '839821291212332'))\n",
    "\n",
    "# search() -> searches a single match\n",
    "print(re.search('a', 'ajeakeieakmnaa'))\n",
    "\n",
    "#  match() -> returns thematch object if only it is present the beginning of the string\n",
    "print(re.match('3', \"382112\"))\n",
    "\n",
    "# split() -> split the string at locations where the pattern is seen\n",
    "print(re.split('3', \"392jk01211122343\"))\n",
    "\n",
    "# sub() -> substitutes the search pattern with another string\n",
    "print(re.sub(\"a\", \"c\", \"Never act Like Mannan\"))"
   ]
  },
  {
   "cell_type": "markdown",
   "metadata": {},
   "source": [
    "### Metacharacters\n",
    "Metacharacters\tare\tcharacters\tused in\tregular\texpressions\tthat have a special\tmeaning"
   ]
  },
  {
   "cell_type": "code",
   "execution_count": 4,
   "metadata": {},
   "outputs": [
    {
     "name": "stdout",
     "output_type": "stream",
     "text": [
      "['e ', 'et', 'eu', 'eo']\n",
      "['wash', 'bash', 'dash']\n"
     ]
    }
   ],
   "source": [
    "# dot(.) -> matches any single character in addition to the parttern\n",
    "print(re.findall(\"e.\", \"be bet gra jeueowt\"))\n",
    "\n",
    "# square brackets ([]) -> any one character among in the bracket\n",
    "reg = re.compile(r\"[dwb]ash\")\n",
    "print(reg.findall('mash shash wash bash mesh dash'))\n",
    "\n",
    "# question mark (?) -> to match zero or one occurrence character\n",
    "regex =  re.compile(r\"Univer[s]?[t]?y\")\n",
    "\n"
   ]
  },
  {
   "cell_type": "code",
   "execution_count": 5,
   "metadata": {},
   "outputs": [
    {
     "data": {
      "text/plain": [
       "[{x: 2}, {x: 3}]"
      ]
     },
     "execution_count": 5,
     "metadata": {},
     "output_type": "execute_result"
    }
   ],
   "source": [
    "import sympy\n",
    "x, y = sympy.symbols('x,y')\n",
    "quad = x**2 - 5*x + 6\n",
    "sympy.solve(quad, dict=True)"
   ]
  },
  {
   "cell_type": "code",
   "execution_count": 6,
   "metadata": {},
   "outputs": [
    {
     "data": {
      "text/plain": [
       "[{x: -1, y: 2}]"
      ]
     },
     "execution_count": 6,
     "metadata": {},
     "output_type": "execute_result"
    }
   ],
   "source": [
    "exp_1 = 2*x -y + 4\n",
    "exp_2 = 3*x + 2*y -1\n",
    "\n",
    "sympy.solve((exp_1, exp_2), dict=True)"
   ]
  },
  {
   "cell_type": "markdown",
   "metadata": {},
   "source": [
    "#### Solving\texpressions\tentered\tby\tthe\tuser\n"
   ]
  },
  {
   "cell_type": "markdown",
   "metadata": {},
   "source": [
    "### Factorization with factor() and expand()"
   ]
  },
  {
   "cell_type": "markdown",
   "metadata": {},
   "source": [
    "### Solving simultaneous equations graphicallly\n"
   ]
  },
  {
   "cell_type": "code",
   "execution_count": 8,
   "metadata": {},
   "outputs": [
    {
     "data": {
      "image/png": "[encoded data removed]",
      "text/plain": [
       "<Figure size 640x480 with 1 Axes>"
      ]
     },
     "metadata": {},
     "output_type": "display_data"
    },
    {
     "data": {
      "text/plain": [
       "[{x: 2, y: 6}]"
      ]
     },
     "execution_count": 8,
     "metadata": {},
     "output_type": "execute_result"
    }
   ],
   "source": [
    "from sympy.plotting import plot\n",
    "from sympy import solve\n",
    "%matplotlib inline\n",
    "plot(x+4, 3*x)\n",
    "solve((x+4-y, 3*x - y), dict=True)"
   ]
  },
  {
   "cell_type": "markdown",
   "metadata": {},
   "source": [
    "### Creating and Manipulating Sets"
   ]
  },
  {
   "cell_type": "code",
   "execution_count": 14,
   "metadata": {},
   "outputs": [
    {
     "name": "stdout",
     "output_type": "stream",
     "text": [
      "{1, 2, 3} {1, 2, 4, 5}\n"
     ]
    }
   ],
   "source": [
    "from sympy import FiniteSet\n",
    "\n",
    "# creating a set\n",
    "first_set = FiniteSet(1,2,3)\n",
    "\n",
    "# creating a set from a list\n",
    "my_list = [2, 4, 1, 2, 5]\n",
    "new_set = FiniteSet(*my_list) # use the * pointer\n",
    "print(first_set, new_set)"
   ]
  },
  {
   "cell_type": "code",
   "execution_count": 17,
   "metadata": {},
   "outputs": [
    {
     "name": "stdout",
     "output_type": "stream",
     "text": [
      "Union :  {1, 2, 3, 4, 5}\n",
      "Intersection :  {1, 2}\n"
     ]
    }
   ],
   "source": [
    "union_set = first_set.union(new_set)\n",
    "intersection_set = first_set.intersect(new_set)\n",
    "\n",
    "print(\"Union : \", union_set)\n",
    "print(\"Intersection : \", intersection_set)"
   ]
  },
  {
   "cell_type": "markdown",
   "metadata": {},
   "source": [
    "### Probrability of an Event"
   ]
  },
  {
   "cell_type": "code",
   "execution_count": 21,
   "metadata": {},
   "outputs": [
    {
     "data": {
      "text/plain": [
       "0.3"
      ]
     },
     "execution_count": 21,
     "metadata": {},
     "output_type": "execute_result"
    }
   ],
   "source": [
    "sample_set = FiniteSet(1,2,3,4,5,6,7,8,9,10)\n",
    "set_a = FiniteSet(3,6,9)\n",
    "p = len(set_a)/len(sample_set)\n",
    "p"
   ]
  },
  {
   "cell_type": "markdown",
   "metadata": {},
   "source": [
    "### Calculus"
   ]
  },
  {
   "cell_type": "code",
   "execution_count": 34,
   "metadata": {},
   "outputs": [
    {
     "name": "stdout",
     "output_type": "stream",
     "text": [
      "1/3\n",
      "6*x**2 - 10*x\n",
      "2*x**3 - 5*x**2\n",
      "51\n"
     ]
    }
   ],
   "source": [
    "from sympy import limit, sin, oo, diff, integrate\n",
    "# limits\n",
    "print(limit(1/x, x, 3))\n",
    "\n",
    "# differentiation\n",
    "exp_n = 2*x**3 - 5*x**2 + 56\n",
    "d = diff(exp_n, x)\n",
    "print(d)\n",
    "\n",
    "# integration\n",
    "print(integrate(d, x))\n",
    "\n",
    "print(integrate(d, (x, 1, 4)))\n"
   ]
  },
  {
   "cell_type": "code",
   "execution_count": 39,
   "metadata": {},
   "outputs": [
    {
     "name": "stdout",
     "output_type": "stream",
     "text": [
      "Integral(tan(x)**0.5, (x, 0, 5))\n"
     ]
    }
   ],
   "source": [
    "from sympy import tan\n",
    "\n",
    "exp_N = 1 / (tan(x))**(-0.5)\n",
    "result = integrate(exp_N, (x, 0, 5))\n",
    "print(result)"
   ]
  },
  {
   "cell_type": "code",
   "execution_count": null,
   "metadata": {},
   "outputs": [],
   "source": []
  }
 ],
 "metadata": {
  "kernelspec": {
   "display_name": "Python 3",
   "language": "python",
   "name": "python3"
  },
  "language_info": {
   "codemirror_mode": {
    "name": "ipython",
    "version": 3
   },
   "file_extension": ".py",
   "mimetype": "text/x-python",
   "name": "python",
   "nbconvert_exporter": "python",
   "pygments_lexer": "ipython3",
   "version": "3.11.0"
  },
  "orig_nbformat": 4
 },
 "nbformat": 4,
 "nbformat_minor": 2
}
