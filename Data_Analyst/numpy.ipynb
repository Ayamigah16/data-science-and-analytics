{
 "cells": [
  {
   "cell_type": "code",
   "execution_count": 1,
   "metadata": {},
   "outputs": [],
   "source": [
    "import numpy as np \n"
   ]
  },
  {
   "cell_type": "code",
   "execution_count": 13,
   "metadata": {},
   "outputs": [
    {
     "name": "stdout",
     "output_type": "stream",
     "text": [
      "[[1 4 5 5]\n",
      " [2 4 6 6]]\n",
      "\n",
      "[0 1 2 3 4 5 6 7 8]\n",
      "\n",
      "[[8.48798316e-314 1.06099790e-313]\n",
      " [8.48798316e-314 1.27319747e-313]]\n",
      "\n",
      "[1 1 3 3 4 4]\n"
     ]
    }
   ],
   "source": [
    "# creating arrays\n",
    "n_array = np.array([\n",
    "    [1,4,5,5],\n",
    "    [2, 4,6, 6]\n",
    "])\n",
    "new_array = np.arange(0, 9)\n",
    "empty = np.empty((2,2))\n",
    "repeat = np.repeat([1,3,4], 2)\n",
    "\n",
    "print(n_array, end=\"\\n\")\n",
    "print()\n",
    "print(new_array,end=\"\\n\")\n",
    "print()\n",
    "print(empty, end=\"\\n\")\n",
    "print()\n",
    "print(repeat)"
   ]
  },
  {
   "cell_type": "code",
   "execution_count": null,
   "metadata": {},
   "outputs": [],
   "source": []
  }
 ],
 "metadata": {
  "kernelspec": {
   "display_name": "Python 3",
   "language": "python",
   "name": "python3"
  },
  "language_info": {
   "codemirror_mode": {
    "name": "ipython",
    "version": 3
   },
   "file_extension": ".py",
   "mimetype": "text/x-python",
   "name": "python",
   "nbconvert_exporter": "python",
   "pygments_lexer": "ipython3",
   "version": "3.11.0"
  },
  "orig_nbformat": 4
 },
 "nbformat": 4,
 "nbformat_minor": 2
}
