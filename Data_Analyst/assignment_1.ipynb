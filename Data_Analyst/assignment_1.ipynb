{
 "cells": [
  {
   "cell_type": "markdown",
   "metadata": {},
   "source": [
    "## Question 1\n",
    "Calculate\tthe\tfactorial\tof\tnumbers\tfrom\t1\tto\t5\tusing\tnested\tloops."
   ]
  },
  {
   "cell_type": "code",
   "execution_count": 2,
   "metadata": {},
   "outputs": [
    {
     "name": "stdout",
     "output_type": "stream",
     "text": [
      "1\n",
      "2\n",
      "6\n",
      "24\n",
      "120\n"
     ]
    }
   ],
   "source": [
    "def fact():\n",
    "    \"\"\" \n",
    "    Computes the factorial of a number\n",
    "\n",
    "    Parameter:\n",
    "    num -> the number to compute its factorial\n",
    "\n",
    "    Return:\n",
    "    The factorial of the number (num)\n",
    "    \"\"\"\n",
    "    \n",
    "    for number in range(1, 6):\n",
    "        num = number\n",
    "        product = 1\n",
    "        while num != 0:\n",
    "            product *= num\n",
    "            num -= 1\n",
    "        print(product, end='\\n')\n",
    "\n",
    "fact()"
   ]
  },
  {
   "cell_type": "markdown",
   "metadata": {},
   "source": [
    "## Question 2\n",
    "Write\ta\tPython\tprogram\tto\tprint\tthe\tfollowing\tsequence\n",
    "#    \"\"\"\n",
    "#    * * * * *\n",
    "#    * * * *\n",
    "#    * * *\n",
    "#    * *\n",
    "#    * \n",
    "#    \"\"\""
   ]
  },
  {
   "cell_type": "code",
   "execution_count": 5,
   "metadata": {},
   "outputs": [
    {
     "name": "stdout",
     "output_type": "stream",
     "text": [
      "*****\n",
      "****\n",
      "***\n",
      "**\n",
      "*\n"
     ]
    }
   ],
   "source": [
    "def pattern(symbol, num):\n",
    "    while num != 0:\n",
    "        print(symbol * num)\n",
    "        num -= 1\n",
    "\n",
    "pattern(\"*\", 5)"
   ]
  },
  {
   "cell_type": "markdown",
   "metadata": {},
   "source": [
    "## Question 3\n",
    "Convert\tthe\tstring\t“123-456-7890”\tinto\tthe\tformat\t“1234567890”.\tUse\tthe\tjoin\tand\tsplit\tstring\tfunctions"
   ]
  },
  {
   "cell_type": "code",
   "execution_count": 6,
   "metadata": {},
   "outputs": [
    {
     "name": "stdout",
     "output_type": "stream",
     "text": [
      "1234567890\n"
     ]
    }
   ],
   "source": [
    "string = \"123-456-7890\"\n",
    "result = \"\".join(list(string.split(\"-\")))\n",
    "\n",
    "print(result)"
   ]
  },
  {
   "cell_type": "markdown",
   "metadata": {},
   "source": [
    "## QUESTION 4\n",
    "Write a function that performs the\tfollowing tasks\t(the name of\tthe\tfile is passed as a parameter)\n",
    "\n",
    "* Create a new text file with the name passed as an argument tothe function\n",
    "* Add the line of text (\"Hello World) to the file\n",
    "* Read the contents of the file\n",
    "* Opens the file again, add another line(\"This is the next line\") below the first line\n",
    "* Reread the file and print the contests on the screen"
   ]
  },
  {
   "cell_type": "code",
   "execution_count": 21,
   "metadata": {},
   "outputs": [
    {
     "name": "stdout",
     "output_type": "stream",
     "text": [
      "Hello World\n",
      "\n",
      "Hello World\n",
      "This is the nextline\n",
      "\n"
     ]
    }
   ],
   "source": [
    "def task_file(name, extention=\".txt\"):\n",
    "    filename = name + extention\n",
    "    file = open(filename, \"w\")\n",
    "    file.write(\"Hello World\\n\")\n",
    "    \n",
    "    with open(filename, 'r') as file:\n",
    "        print(file.read())\n",
    "    \n",
    "    file = open(filename, \"a\")\n",
    "    file.write(\"This is the nextline\\n\")\n",
    "\n",
    "    with open(filename, 'r') as file:\n",
    "        print(file.read())\n",
    "\n",
    "task_file(\"name\")\n"
   ]
  },
  {
   "cell_type": "code",
   "execution_count": null,
   "metadata": {},
   "outputs": [],
   "source": []
  }
 ],
 "metadata": {
  "kernelspec": {
   "display_name": "Python 3",
   "language": "python",
   "name": "python3"
  },
  "language_info": {
   "codemirror_mode": {
    "name": "ipython",
    "version": 3
   },
   "file_extension": ".py",
   "mimetype": "text/x-python",
   "name": "python",
   "nbconvert_exporter": "python",
   "pygments_lexer": "ipython3",
   "version": "3.11.0"
  },
  "orig_nbformat": 4
 },
 "nbformat": 4,
 "nbformat_minor": 2
}
