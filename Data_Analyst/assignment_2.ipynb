{
 "cells": [
  {
   "cell_type": "markdown",
   "metadata": {},
   "source": [
    "### Question 1\n",
    "Consider the two expessions y = x**2 -9 and y = 3*x - 11.\n",
    "    Use the Sympy functions to solve the following:\n",
    "- Factorize the expressions x**2 - 9, and list its factors\n",
    "- Solve the two equations\n",
    "- Plot the two equations and show the solution graphically\n",
    "- Differentiate the expression x**2 - 9, for x = 1\n",
    "- Find the definite integral of the expressions 3*x -11 between the points x = 0 and x = 1 "
   ]
  },
  {
   "cell_type": "markdown",
   "metadata": {},
   "source": [
    "## Question 2\n",
    "Write a program that asks a usere to enter a password and validate it. The password should satisfy the following requirements:\n",
    "- Length should be a minimum of six characters\n",
    "- Contain at least one uppercase alphabet, one lowercase alphabet, one special character and one digit \n"
   ]
  },
  {
   "cell_type": "markdown",
   "metadata": {},
   "source": []
  }
 ],
 "metadata": {
  "language_info": {
   "name": "python"
  },
  "orig_nbformat": 4
 },
 "nbformat": 4,
 "nbformat_minor": 2
}
