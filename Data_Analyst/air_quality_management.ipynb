{
 "cells": [
  {
   "cell_type": "markdown",
   "metadata": {},
   "source": [
    "## Problem\n",
    "To monitor the status of ambient air quality. The Central Pollution Control Board (CPCB), India operates a vast network of monitoring stations across the country. Parameters regularly monitored include **sulphur dioxide(SO2)**, oxides of nitrogen as **nitrogen dioxide(NO2)**, **ozone** and **fine particulate matter(PM2.5)**. Based on the trends over the years, air quality in the national capital of Delhi has emerged as matter of public concern. A stepwise analysis of daily air quality data follows to demonstrate how data analysis could assist in planning interventions as part of air quality management.\n",
    "\n",
    "### Questions To Answer\n",
    "1. **Yearly Averages**: Out of the polutttants - SO2, NO2, ozone and PM2.5 - which have yearly average levels that regularly surpasses the prescribed annual standards?\n",
    "2. **Daily Standards**: For the pollutants of concern on how many days in each year are the daily standards exceeded?\n",
    "3. **Temporal Variation**: Which are the months where the pollution levels exceed critical levels on most days?\n"
   ]
  },
  {
   "cell_type": "code",
   "execution_count": 1,
   "metadata": {},
   "outputs": [],
   "source": [
    "# importing modules\n",
    "import pandas as pd\n",
    "import numpy as np \n",
    "import seaborn as sns\n",
    "import matplotlib.pyplot as plt \n"
   ]
  },
  {
   "cell_type": "code",
   "execution_count": 2,
   "metadata": {},
   "outputs": [
    {
     "data": {
      "text/html": [
       "<div>\n",
       "<style scoped>\n",
       "    .dataframe tbody tr th:only-of-type {\n",
       "        vertical-align: middle;\n",
       "    }\n",
       "\n",
       "    .dataframe tbody tr th {\n",
       "        vertical-align: top;\n",
       "    }\n",
       "\n",
       "    .dataframe thead th {\n",
       "        text-align: right;\n",
       "    }\n",
       "</style>\n",
       "<table border=\"1\" class=\"dataframe\">\n",
       "  <thead>\n",
       "    <tr style=\"text-align: right;\">\n",
       "      <th></th>\n",
       "      <th>From Date</th>\n",
       "      <th>To Date</th>\n",
       "      <th>PM2.5</th>\n",
       "      <th>SO2</th>\n",
       "      <th>Ozone</th>\n",
       "      <th>NO2</th>\n",
       "    </tr>\n",
       "  </thead>\n",
       "  <tbody>\n",
       "    <tr>\n",
       "      <th>0</th>\n",
       "      <td>01-01-2014 00:00</td>\n",
       "      <td>02-01-2014 00:00</td>\n",
       "      <td>NaN</td>\n",
       "      <td>22.70</td>\n",
       "      <td>8.63</td>\n",
       "      <td>5.59</td>\n",
       "    </tr>\n",
       "    <tr>\n",
       "      <th>1</th>\n",
       "      <td>02-01-2014 00:00</td>\n",
       "      <td>03-01-2014 00:00</td>\n",
       "      <td>NaN</td>\n",
       "      <td>8.72</td>\n",
       "      <td>8.43</td>\n",
       "      <td>3.68</td>\n",
       "    </tr>\n",
       "    <tr>\n",
       "      <th>2</th>\n",
       "      <td>03-01-2014 00:00</td>\n",
       "      <td>04-01-2014 00:00</td>\n",
       "      <td>NaN</td>\n",
       "      <td>13.83</td>\n",
       "      <td>9.77</td>\n",
       "      <td>3.83</td>\n",
       "    </tr>\n",
       "    <tr>\n",
       "      <th>3</th>\n",
       "      <td>04-01-2014 00:00</td>\n",
       "      <td>05-01-2014 00:00</td>\n",
       "      <td>NaN</td>\n",
       "      <td>27.64</td>\n",
       "      <td>6.83</td>\n",
       "      <td>9.64</td>\n",
       "    </tr>\n",
       "    <tr>\n",
       "      <th>4</th>\n",
       "      <td>05-01-2014 00:00</td>\n",
       "      <td>06-01-2014 00:00</td>\n",
       "      <td>NaN</td>\n",
       "      <td>37.17</td>\n",
       "      <td>7.34</td>\n",
       "      <td>11.06</td>\n",
       "    </tr>\n",
       "  </tbody>\n",
       "</table>\n",
       "</div>"
      ],
      "text/plain": [
       "          From Date           To Date  PM2.5    SO2  Ozone    NO2\n",
       "0  01-01-2014 00:00  02-01-2014 00:00    NaN  22.70   8.63   5.59\n",
       "1  02-01-2014 00:00  03-01-2014 00:00    NaN   8.72   8.43   3.68\n",
       "2  03-01-2014 00:00  04-01-2014 00:00    NaN  13.83   9.77   3.83\n",
       "3  04-01-2014 00:00  05-01-2014 00:00    NaN  27.64   6.83   9.64\n",
       "4  05-01-2014 00:00  06-01-2014 00:00    NaN  37.17   7.34  11.06"
      ]
     },
     "execution_count": 2,
     "metadata": {},
     "output_type": "execute_result"
    }
   ],
   "source": [
    "# getting the dataset\n",
    "aqdata = pd.read_csv('datasets/NSIT Dwarka.csv')\n",
    "aqdata.head()"
   ]
  },
  {
   "cell_type": "code",
   "execution_count": 3,
   "metadata": {},
   "outputs": [
    {
     "name": "stdout",
     "output_type": "stream",
     "text": [
      "<class 'pandas.core.frame.DataFrame'>\n",
      "RangeIndex: 2192 entries, 0 to 2191\n",
      "Data columns (total 6 columns):\n",
      " #   Column     Non-Null Count  Dtype  \n",
      "---  ------     --------------  -----  \n",
      " 0   From Date  2191 non-null   object \n",
      " 1   To Date    2191 non-null   object \n",
      " 2   PM2.5      1630 non-null   float64\n",
      " 3   SO2        2108 non-null   float64\n",
      " 4   Ozone      2086 non-null   float64\n",
      " 5   NO2        2087 non-null   float64\n",
      "dtypes: float64(4), object(2)\n",
      "memory usage: 102.9+ KB\n"
     ]
    }
   ],
   "source": [
    "# inforemations about the data\n",
    "aqdata.info()"
   ]
  },
  {
   "cell_type": "code",
   "execution_count": 4,
   "metadata": {},
   "outputs": [
    {
     "data": {
      "text/html": [
       "<div>\n",
       "<style scoped>\n",
       "    .dataframe tbody tr th:only-of-type {\n",
       "        vertical-align: middle;\n",
       "    }\n",
       "\n",
       "    .dataframe tbody tr th {\n",
       "        vertical-align: top;\n",
       "    }\n",
       "\n",
       "    .dataframe thead th {\n",
       "        text-align: right;\n",
       "    }\n",
       "</style>\n",
       "<table border=\"1\" class=\"dataframe\">\n",
       "  <thead>\n",
       "    <tr style=\"text-align: right;\">\n",
       "      <th></th>\n",
       "      <th>PM2.5</th>\n",
       "      <th>SO2</th>\n",
       "      <th>Ozone</th>\n",
       "      <th>NO2</th>\n",
       "    </tr>\n",
       "  </thead>\n",
       "  <tbody>\n",
       "    <tr>\n",
       "      <th>count</th>\n",
       "      <td>1630.000000</td>\n",
       "      <td>2108.000000</td>\n",
       "      <td>2086.000000</td>\n",
       "      <td>2087.000000</td>\n",
       "    </tr>\n",
       "    <tr>\n",
       "      <th>mean</th>\n",
       "      <td>119.154319</td>\n",
       "      <td>9.851157</td>\n",
       "      <td>29.903600</td>\n",
       "      <td>30.419794</td>\n",
       "    </tr>\n",
       "    <tr>\n",
       "      <th>std</th>\n",
       "      <td>81.114285</td>\n",
       "      <td>7.896505</td>\n",
       "      <td>19.171954</td>\n",
       "      <td>16.471205</td>\n",
       "    </tr>\n",
       "    <tr>\n",
       "      <th>min</th>\n",
       "      <td>1.470000</td>\n",
       "      <td>0.430000</td>\n",
       "      <td>0.800000</td>\n",
       "      <td>1.330000</td>\n",
       "    </tr>\n",
       "    <tr>\n",
       "      <th>25%</th>\n",
       "      <td>64.427500</td>\n",
       "      <td>4.780000</td>\n",
       "      <td>16.892500</td>\n",
       "      <td>20.265000</td>\n",
       "    </tr>\n",
       "    <tr>\n",
       "      <th>50%</th>\n",
       "      <td>101.295000</td>\n",
       "      <td>7.800000</td>\n",
       "      <td>26.070000</td>\n",
       "      <td>28.020000</td>\n",
       "    </tr>\n",
       "    <tr>\n",
       "      <th>75%</th>\n",
       "      <td>145.157500</td>\n",
       "      <td>12.442500</td>\n",
       "      <td>38.607500</td>\n",
       "      <td>37.925000</td>\n",
       "    </tr>\n",
       "    <tr>\n",
       "      <th>max</th>\n",
       "      <td>982.690000</td>\n",
       "      <td>122.640000</td>\n",
       "      <td>179.830000</td>\n",
       "      <td>285.530000</td>\n",
       "    </tr>\n",
       "  </tbody>\n",
       "</table>\n",
       "</div>"
      ],
      "text/plain": [
       "             PM2.5          SO2        Ozone          NO2\n",
       "count  1630.000000  2108.000000  2086.000000  2087.000000\n",
       "mean    119.154319     9.851157    29.903600    30.419794\n",
       "std      81.114285     7.896505    19.171954    16.471205\n",
       "min       1.470000     0.430000     0.800000     1.330000\n",
       "25%      64.427500     4.780000    16.892500    20.265000\n",
       "50%     101.295000     7.800000    26.070000    28.020000\n",
       "75%     145.157500    12.442500    38.607500    37.925000\n",
       "max     982.690000   122.640000   179.830000   285.530000"
      ]
     },
     "execution_count": 4,
     "metadata": {},
     "output_type": "execute_result"
    }
   ],
   "source": [
    "# summary ab out the data\n",
    "aqdata.describe()"
   ]
  },
  {
   "cell_type": "markdown",
   "metadata": {},
   "source": [
    "### Data Wrangling:\n",
    "* Dealing with missing values\n",
    "* Change the data types of the columns"
   ]
  },
  {
   "cell_type": "code",
   "execution_count": 5,
   "metadata": {},
   "outputs": [
    {
     "data": {
      "text/plain": [
       "From Date      1\n",
       "To Date        1\n",
       "PM2.5        562\n",
       "SO2           84\n",
       "Ozone        106\n",
       "NO2          105\n",
       "dtype: int64"
      ]
     },
     "execution_count": 5,
     "metadata": {},
     "output_type": "execute_result"
    }
   ],
   "source": [
    "# checking for missing values\n",
    "aqdata.isna().sum()"
   ]
  },
  {
   "cell_type": "code",
   "execution_count": 6,
   "metadata": {},
   "outputs": [],
   "source": [
    "# changing the data datatypes\n",
    "# Update the date-time format to match the actual format of the strings\n",
    "aqdata[\"From Date\"] = pd.to_datetime(aqdata[\"From Date\"], format=\"%d-%m-%Y %H:%M\")\n",
    "aqdata[\"To Date\"] = pd.to_datetime(aqdata[\"To Date\"], format=\"%d-%m-%Y %H:%M\")\n",
    "\n",
    "\n",
    "# numeric\n",
    "aqdata[\"NO2\"] = pd.to_numeric(aqdata[\"NO2\"], errors =\"coerce\")\n",
    "aqdata[\"Ozone\"] = pd.to_numeric(aqdata[\"Ozone\"], errors=\"coerce\")\n",
    "aqdata[\"PM2.5\"] = pd.to_numeric(aqdata[\"PM2.5\"], errors=\"coerce\")\n",
    "aqdata[\"SO2\"] = pd.to_numeric(aqdata[\"SO2\"], errors=\"coerce\")\n"
   ]
  },
  {
   "cell_type": "code",
   "execution_count": 7,
   "metadata": {},
   "outputs": [
    {
     "name": "stdout",
     "output_type": "stream",
     "text": [
      "<class 'pandas.core.frame.DataFrame'>\n",
      "RangeIndex: 2192 entries, 0 to 2191\n",
      "Data columns (total 6 columns):\n",
      " #   Column     Non-Null Count  Dtype         \n",
      "---  ------     --------------  -----         \n",
      " 0   From Date  2191 non-null   datetime64[ns]\n",
      " 1   To Date    2191 non-null   datetime64[ns]\n",
      " 2   PM2.5      1630 non-null   float64       \n",
      " 3   SO2        2108 non-null   float64       \n",
      " 4   Ozone      2086 non-null   float64       \n",
      " 5   NO2        2087 non-null   float64       \n",
      "dtypes: datetime64[ns](2), float64(4)\n",
      "memory usage: 102.9 KB\n"
     ]
    }
   ],
   "source": [
    "aqdata.info()"
   ]
  },
  {
   "cell_type": "code",
   "execution_count": 8,
   "metadata": {},
   "outputs": [
    {
     "data": {
      "text/plain": [
       "2182    2019.0\n",
       "2183    2019.0\n",
       "2184    2019.0\n",
       "2185    2019.0\n",
       "2186    2019.0\n",
       "2187    2019.0\n",
       "2188    2019.0\n",
       "2189    2019.0\n",
       "2190    2019.0\n",
       "2191       NaN\n",
       "Name: Year, dtype: float64"
      ]
     },
     "execution_count": 8,
     "metadata": {},
     "output_type": "execute_result"
    }
   ],
   "source": [
    "# since most of our analysis considers yearly data, we create a new column\n",
    "# to extract the year using.\n",
    "aqdata[\"Year\"] = pd.DatetimeIndex(aqdata[\"From Date\"]).year\n",
    "aqdata[\"Year\"].tail(10)"
   ]
  },
  {
   "cell_type": "code",
   "execution_count": 9,
   "metadata": {},
   "outputs": [],
   "source": [
    "# extracting the data for each year \n",
    "aq2014 = aqdata[aqdata[\"Year\"]==2014]\n",
    "aq2015 = aqdata[aqdata[\"Year\"]==2015]\n",
    "aq2016 = aqdata[aqdata[\"Year\"]==2016]\n",
    "aq2017 = aqdata[aqdata[\"Year\"]==2017]\n",
    "aq2018 = aqdata[aqdata[\"Year\"]==2018]\n",
    "aq2019 = aqdata[aqdata[\"Year\"]==2019]"
   ]
  },
  {
   "cell_type": "code",
   "execution_count": 10,
   "metadata": {},
   "outputs": [
    {
     "data": {
      "text/plain": [
       "From Date      0\n",
       "To Date        0\n",
       "PM2.5        365\n",
       "SO2            8\n",
       "Ozone          8\n",
       "NO2            8\n",
       "Year           0\n",
       "dtype: int64"
      ]
     },
     "execution_count": 10,
     "metadata": {},
     "output_type": "execute_result"
    }
   ],
   "source": [
    "# checking the missing values in the 2014 data\n",
    "aq2014.isna().sum()"
   ]
  },
  {
   "cell_type": "markdown",
   "metadata": {},
   "source": [
    "The are 389 empty data for the 2014 year"
   ]
  },
  {
   "cell_type": "code",
   "execution_count": 11,
   "metadata": {},
   "outputs": [
    {
     "data": {
      "text/plain": [
       "From Date      0\n",
       "To Date        0\n",
       "PM2.5        117\n",
       "SO2           12\n",
       "Ozone         29\n",
       "NO2           37\n",
       "Year           0\n",
       "dtype: int64"
      ]
     },
     "execution_count": 11,
     "metadata": {},
     "output_type": "execute_result"
    }
   ],
   "source": [
    "# checking the missing values in the 2015 data\n",
    "aq2015.isna().sum()"
   ]
  },
  {
   "cell_type": "markdown",
   "metadata": {},
   "source": [
    "There are 195 emty data for the 2015 year"
   ]
  },
  {
   "cell_type": "code",
   "execution_count": 12,
   "metadata": {},
   "outputs": [
    {
     "data": {
      "text/plain": [
       "From Date     0\n",
       "To Date       0\n",
       "PM2.5        43\n",
       "SO2          43\n",
       "Ozone        47\n",
       "NO2          42\n",
       "Year          0\n",
       "dtype: int64"
      ]
     },
     "execution_count": 12,
     "metadata": {},
     "output_type": "execute_result"
    }
   ],
   "source": [
    "# checking the missing values in the 2016 data\n",
    "aq2016.isna().sum()"
   ]
  },
  {
   "cell_type": "code",
   "execution_count": 13,
   "metadata": {},
   "outputs": [
    {
     "data": {
      "text/plain": [
       "From Date     0\n",
       "To Date       0\n",
       "PM2.5        34\n",
       "SO2          17\n",
       "Ozone        17\n",
       "NO2          12\n",
       "Year          0\n",
       "dtype: int64"
      ]
     },
     "execution_count": 13,
     "metadata": {},
     "output_type": "execute_result"
    }
   ],
   "source": [
    "# checking the missing values in the 2017 data\n",
    "aq2017.isna().sum()"
   ]
  },
  {
   "cell_type": "markdown",
   "metadata": {},
   "source": [
    "There are 80 empty data for the 2017 data"
   ]
  },
  {
   "cell_type": "code",
   "execution_count": 14,
   "metadata": {},
   "outputs": [
    {
     "data": {
      "text/plain": [
       "From Date    0\n",
       "To Date      0\n",
       "PM2.5        2\n",
       "SO2          2\n",
       "Ozone        2\n",
       "NO2          2\n",
       "Year         0\n",
       "dtype: int64"
      ]
     },
     "execution_count": 14,
     "metadata": {},
     "output_type": "execute_result"
    }
   ],
   "source": [
    "# checking the missing values in the 2018 data\n",
    "aq2018.isna().sum()"
   ]
  },
  {
   "cell_type": "markdown",
   "metadata": {},
   "source": [
    "There are 8 empty data for the 2018 year"
   ]
  },
  {
   "cell_type": "code",
   "execution_count": 15,
   "metadata": {},
   "outputs": [
    {
     "data": {
      "text/plain": [
       "From Date    0\n",
       "To Date      0\n",
       "PM2.5        0\n",
       "SO2          1\n",
       "Ozone        2\n",
       "NO2          3\n",
       "Year         0\n",
       "dtype: int64"
      ]
     },
     "execution_count": 15,
     "metadata": {},
     "output_type": "execute_result"
    }
   ],
   "source": [
    "# checking the missing values in the 2019 data\n",
    "aq2019.isna().sum()"
   ]
  },
  {
   "cell_type": "markdown",
   "metadata": {},
   "source": [
    "There are 6 empty data for the 2019 year"
   ]
  },
  {
   "cell_type": "markdown",
   "metadata": {},
   "source": [
    "## Analysis \n",
    "1. The 2018 and 2019 data has the least empty values (must use data)\n",
    "2. The 2014 and 2015 data has the highest empty values(data to exclude)\n",
    "3. The 2016 and 2017 data has more empty values buy closed value gap (to use data)"
   ]
  },
  {
   "cell_type": "code",
   "execution_count": 16,
   "metadata": {},
   "outputs": [
    {
     "data": {
      "text/html": [
       "<div>\n",
       "<style scoped>\n",
       "    .dataframe tbody tr th:only-of-type {\n",
       "        vertical-align: middle;\n",
       "    }\n",
       "\n",
       "    .dataframe tbody tr th {\n",
       "        vertical-align: top;\n",
       "    }\n",
       "\n",
       "    .dataframe thead th {\n",
       "        text-align: right;\n",
       "    }\n",
       "</style>\n",
       "<table border=\"1\" class=\"dataframe\">\n",
       "  <thead>\n",
       "    <tr style=\"text-align: right;\">\n",
       "      <th></th>\n",
       "      <th>From Date</th>\n",
       "      <th>To Date</th>\n",
       "      <th>PM2.5</th>\n",
       "      <th>SO2</th>\n",
       "      <th>Ozone</th>\n",
       "      <th>NO2</th>\n",
       "      <th>Year</th>\n",
       "    </tr>\n",
       "  </thead>\n",
       "  <tbody>\n",
       "    <tr>\n",
       "      <th>1826</th>\n",
       "      <td>2019-01-01</td>\n",
       "      <td>2019-01-02</td>\n",
       "      <td>231.39</td>\n",
       "      <td>30.67</td>\n",
       "      <td>15.40</td>\n",
       "      <td>28.05</td>\n",
       "      <td>2019.0</td>\n",
       "    </tr>\n",
       "    <tr>\n",
       "      <th>1827</th>\n",
       "      <td>2019-01-02</td>\n",
       "      <td>2019-01-03</td>\n",
       "      <td>252.35</td>\n",
       "      <td>36.08</td>\n",
       "      <td>24.96</td>\n",
       "      <td>34.26</td>\n",
       "      <td>2019.0</td>\n",
       "    </tr>\n",
       "    <tr>\n",
       "      <th>1828</th>\n",
       "      <td>2019-01-03</td>\n",
       "      <td>2019-01-04</td>\n",
       "      <td>348.53</td>\n",
       "      <td>34.19</td>\n",
       "      <td>11.88</td>\n",
       "      <td>24.73</td>\n",
       "      <td>2019.0</td>\n",
       "    </tr>\n",
       "    <tr>\n",
       "      <th>1829</th>\n",
       "      <td>2019-01-04</td>\n",
       "      <td>2019-01-05</td>\n",
       "      <td>231.49</td>\n",
       "      <td>17.53</td>\n",
       "      <td>7.87</td>\n",
       "      <td>24.17</td>\n",
       "      <td>2019.0</td>\n",
       "    </tr>\n",
       "    <tr>\n",
       "      <th>1830</th>\n",
       "      <td>2019-01-05</td>\n",
       "      <td>2019-01-06</td>\n",
       "      <td>254.39</td>\n",
       "      <td>27.66</td>\n",
       "      <td>23.85</td>\n",
       "      <td>36.03</td>\n",
       "      <td>2019.0</td>\n",
       "    </tr>\n",
       "    <tr>\n",
       "      <th>...</th>\n",
       "      <td>...</td>\n",
       "      <td>...</td>\n",
       "      <td>...</td>\n",
       "      <td>...</td>\n",
       "      <td>...</td>\n",
       "      <td>...</td>\n",
       "      <td>...</td>\n",
       "    </tr>\n",
       "    <tr>\n",
       "      <th>2186</th>\n",
       "      <td>2019-12-27</td>\n",
       "      <td>2019-12-28</td>\n",
       "      <td>224.31</td>\n",
       "      <td>6.25</td>\n",
       "      <td>13.09</td>\n",
       "      <td>33.03</td>\n",
       "      <td>2019.0</td>\n",
       "    </tr>\n",
       "    <tr>\n",
       "      <th>2187</th>\n",
       "      <td>2019-12-28</td>\n",
       "      <td>2019-12-29</td>\n",
       "      <td>254.75</td>\n",
       "      <td>14.25</td>\n",
       "      <td>6.30</td>\n",
       "      <td>31.21</td>\n",
       "      <td>2019.0</td>\n",
       "    </tr>\n",
       "    <tr>\n",
       "      <th>2188</th>\n",
       "      <td>2019-12-29</td>\n",
       "      <td>2019-12-30</td>\n",
       "      <td>318.94</td>\n",
       "      <td>14.67</td>\n",
       "      <td>15.29</td>\n",
       "      <td>42.71</td>\n",
       "      <td>2019.0</td>\n",
       "    </tr>\n",
       "    <tr>\n",
       "      <th>2189</th>\n",
       "      <td>2019-12-30</td>\n",
       "      <td>2019-12-31</td>\n",
       "      <td>263.01</td>\n",
       "      <td>16.88</td>\n",
       "      <td>1.78</td>\n",
       "      <td>46.10</td>\n",
       "      <td>2019.0</td>\n",
       "    </tr>\n",
       "    <tr>\n",
       "      <th>2190</th>\n",
       "      <td>2019-12-31</td>\n",
       "      <td>2020-01-01</td>\n",
       "      <td>207.19</td>\n",
       "      <td>7.92</td>\n",
       "      <td>13.06</td>\n",
       "      <td>32.44</td>\n",
       "      <td>2019.0</td>\n",
       "    </tr>\n",
       "  </tbody>\n",
       "</table>\n",
       "<p>362 rows × 7 columns</p>\n",
       "</div>"
      ],
      "text/plain": [
       "      From Date    To Date   PM2.5    SO2  Ozone    NO2    Year\n",
       "1826 2019-01-01 2019-01-02  231.39  30.67  15.40  28.05  2019.0\n",
       "1827 2019-01-02 2019-01-03  252.35  36.08  24.96  34.26  2019.0\n",
       "1828 2019-01-03 2019-01-04  348.53  34.19  11.88  24.73  2019.0\n",
       "1829 2019-01-04 2019-01-05  231.49  17.53   7.87  24.17  2019.0\n",
       "1830 2019-01-05 2019-01-06  254.39  27.66  23.85  36.03  2019.0\n",
       "...         ...        ...     ...    ...    ...    ...     ...\n",
       "2186 2019-12-27 2019-12-28  224.31   6.25  13.09  33.03  2019.0\n",
       "2187 2019-12-28 2019-12-29  254.75  14.25   6.30  31.21  2019.0\n",
       "2188 2019-12-29 2019-12-30  318.94  14.67  15.29  42.71  2019.0\n",
       "2189 2019-12-30 2019-12-31  263.01  16.88   1.78  46.10  2019.0\n",
       "2190 2019-12-31 2020-01-01  207.19   7.92  13.06  32.44  2019.0\n",
       "\n",
       "[362 rows x 7 columns]"
      ]
     },
     "execution_count": 16,
     "metadata": {},
     "output_type": "execute_result"
    }
   ],
   "source": [
    "# Dropping the missing values for the specific years\n",
    "aq2016.dropna()\n",
    "aq2017.dropna()\n",
    "aq2018.dropna()\n",
    "aq2019.dropna()\n",
    "\n"
   ]
  },
  {
   "cell_type": "markdown",
   "metadata": {},
   "source": [
    "## Data Visualization\n"
   ]
  },
  {
   "cell_type": "markdown",
   "metadata": {},
   "source": [
    "### Part 1 of analysis\n",
    "1. **Yearly Averages**: Out of the polutttants - SO2, NO2, ozone and PM2.5 - which have yearly average levels that regularly surpasses the prescribed annual standards?"
   ]
  },
  {
   "cell_type": "code",
   "execution_count": 17,
   "metadata": {},
   "outputs": [],
   "source": [
    "#  Yearly averages for SO2 to 2 decimal points\n",
    "S_16_AVG = round(aq2016['SO2'].mean(), 2)\n",
    "S_17_AVG = round(aq2017['SO2'].mean(), 2) \n",
    "S_18_AVG = round(aq2018['SO2'].mean(), 2) \n",
    "S_19_AVG = round(aq2019['SO2'].mean(), 2)\n",
    "\n",
    "#  Yearly averages for NO2 to 2 decimal points\n",
    "N_16_AVG = round(aq2016['NO2'].mean(), 2)\n",
    "N_17_AVG = round(aq2017['NO2'].mean(), 2) \n",
    "N_18_AVG = round(aq2018['NO2'].mean(), 2) \n",
    "N_19_AVG = round(aq2019['NO2'].mean(), 2)\n",
    "\n",
    "#  Yearly averages for PM25. to 2 decimal points\n",
    "PM_16_AVG = round(aq2016['PM2.5'].mean(), 2)\n",
    "PM_17_AVG = round(aq2017['PM2.5'].mean(), 2) \n",
    "PM_18_AVG = round(aq2018['PM2.5'].mean(), 2) \n",
    "PM_19_AVG = round(aq2019['PM2.5'].mean(), 2)\n",
    "\n",
    "#  Yearly averages for Ozone to 2 decimal points\n",
    "O_16_AVG = round(aq2016['Ozone'].mean(), 2)\n",
    "O_17_AVG = round(aq2017['Ozone'].mean(), 2) \n",
    "O_18_AVG = round(aq2018['Ozone'].mean(), 2) \n",
    "O_19_AVG = round(aq2019['Ozone'].mean(), 2)\n",
    "\n"
   ]
  },
  {
   "cell_type": "code",
   "execution_count": 18,
   "metadata": {},
   "outputs": [],
   "source": [
    "# craeting dataframes for each pollutants with two columns (YEAR, YEARLY_AVG)\n",
    "# dataframe for SO2\n",
    "dfs = pd.DataFrame(\n",
    "    {\"Yearly Avearage\": [S_16_AVG, S_17_AVG, S_18_AVG, S_19_AVG]},\n",
    "    index = ['2016', '2017', '2018','2019']\n",
    "    )\n",
    "\n",
    "# dataframe for NO2\n",
    "dfn = pd.DataFrame(\n",
    "    {\"Yearly Avearage\": [N_16_AVG, N_17_AVG, N_18_AVG, N_19_AVG]},\n",
    "    index = ['2016', '2017', '2018','2019']\n",
    "    )\n",
    "\n",
    "# dataframe for PM2.5\n",
    "dfp = pd.DataFrame(\n",
    "    {\"Yearly Avearage\": [PM_16_AVG, PM_17_AVG, PM_18_AVG, PM_19_AVG]},\n",
    "    index = ['2016', '2017', '2018','2019']\n",
    "    )\n",
    "\n",
    "# dataframe for Ozone\n",
    "dfo = pd.DataFrame(\n",
    "    {\"Yearly Avearage\": [O_16_AVG, O_17_AVG, O_18_AVG, O_19_AVG]},\n",
    "    index = ['2016', '2017', '2018','2019']\n",
    "    )"
   ]
  },
  {
   "cell_type": "markdown",
   "metadata": {},
   "source": [
    "### Plotting graphs for yearly averages\n"
   ]
  },
  {
   "cell_type": "code",
   "execution_count": 19,
   "metadata": {},
   "outputs": [
    {
     "data": {
      "image/png": "[encoded data removed]",
      "text/plain": [
       "<Figure size 2000x500 with 4 Axes>"
      ]
     },
     "metadata": {},
     "output_type": "display_data"
    }
   ],
   "source": [
    "# creating a figure with 4 subplots\n",
    "fig = plt.figure()\n",
    "\n",
    "# plot for NO2 ======================================>\n",
    "ax1 = fig.add_subplot(1,4,1)    # creating the subplot\n",
    "dfn.plot(kind=\"bar\", ax=ax1, figsize=(20,5))    # plotting the graph\n",
    "ax1.set_title(\"NO2\")            # setting the plot title\n",
    "ax1.set_xlabel(\"Years\")         #  setting the x_axis label\n",
    "ax1.set_ylabel(\"Yearly Average\")    # setting the y_axis label\n",
    "ax1.legend().set_visible(False)     # hidding the legend associated with the ax1plot  \n",
    "\n",
    "# creating a dashed line to indicate the annual statndard\n",
    "ax1.hlines(y=40, xmin=-0.9, xmax=15, linestyles=\"dashed\")\n",
    "# labelling the dashed line\n",
    "ax1.annotate(\"Annual Avg. Standard for NO2\", (-0.5, 39))\n",
    "# Assuming ax1 is the axis you want to plot on\n",
    "for p in ax1.patches:\n",
    "    ax1.annotate(f'{p.get_height():.2f}', (p.get_x() + p.get_width() / 2, p.get_height()),\n",
    "                 ha='center', va='bottom', fontsize=9)\n",
    "\n",
    "\n",
    "# plot for SO2 =========================================>\n",
    "ax2 = fig.add_subplot(1,4,2)    # creating the subplot\n",
    "dfs.plot(kind=\"bar\", ax=ax2, figsize=(20,5))    # plotting the graph\n",
    "ax2.set_title(\"SO2\")            # setting the plot title\n",
    "ax2.set_xlabel(\"Years\")         #  setting the x_axis label\n",
    "ax2.set_ylabel(\"Yearly Average\")    # setting the y_axis label\n",
    "ax2.legend().set_visible(False)     # hidding the legend associated with the ax1plot  \n",
    "\n",
    "# creating a dashed line to indicate the annual statndard\n",
    "ax2.hlines(y=40, xmin=-0.9, xmax=15, linestyles=\"dashed\")\n",
    "# labelling the dashed line\n",
    "ax2.annotate(\"Annual Avg. Standard for NO2\", (-0.5, 39))\n",
    "# Assuming ax1 is the axis you want to plot on\n",
    "for p in ax2.patches:\n",
    "    ax2.annotate(f'{p.get_height():.2f}', (p.get_x() + p.get_width() / 2, p.get_height()),\n",
    "                 ha='center', va='bottom', fontsize=9)\n",
    "    \n",
    "\n",
    "# plot for PM2.5 ======================================>\n",
    "ax3 = fig.add_subplot(1,4,3)    # creating the subplot\n",
    "dfp.plot(kind=\"bar\", ax=ax3, figsize=(20,5))    # plotting the graph\n",
    "ax3.set_title(\"PM2.5\")            # setting the plot title\n",
    "ax3.set_xlabel(\"Years\")         #  setting the x_axis label\n",
    "ax3.set_ylabel(\"Yearly Average\")    # setting the y_axis label\n",
    "ax3.legend().set_visible(False)     # hidding the legend associated with the ax1plot  \n",
    "\n",
    "# creating a dashed line to indicate the annual statndard\n",
    "ax3.hlines(y=40, xmin=-0.9, xmax=15, linestyles=\"dashed\")\n",
    "# labelling the dashed line\n",
    "ax3.annotate(\"Annual Avg. Standard for NO2\", (-0.5, 39))\n",
    "# Assuming ax1 is the axis you want to plot on\n",
    "for p in ax3.patches:\n",
    "    ax3.annotate(f'{p.get_height():.2f}', (p.get_x() + p.get_width() / 2, p.get_height()),\n",
    "                 ha='center', va='bottom', fontsize=9)\n",
    "\n",
    "\n",
    "# plot for Ozone ======================================>\n",
    "ax4 = fig.add_subplot(1,4,4)    # creating the subplot\n",
    "dfo.plot(kind=\"bar\", ax=ax4, figsize=(20,5))    # plotting the graph\n",
    "ax4.set_title(\"Ozone\")            # setting the plot title\n",
    "ax4.set_xlabel(\"Years\")         #  setting the x_axis label\n",
    "ax4.set_ylabel(\"Yearly Average\")    # setting the y_axis label\n",
    "ax4.legend().set_visible(False)     # hidding the legend associated with the ax1plot  \n",
    "\n",
    "# creating a dashed line to indicate the annual statndard\n",
    "ax4.hlines(y=40, xmin=-0.9, xmax=15, linestyles=\"dashed\")\n",
    "# labelling the dashed line\n",
    "ax4.annotate(\"Annual Avg. Standard for NO2\", (-0.5, 39))\n",
    "# Assuming ax1 is the axis you want to plot on\n",
    "for p in ax4.patches:\n",
    "    ax4.annotate(f'{p.get_height():.2f}', (p.get_x() + p.get_width() / 2, p.get_height()),\n",
    "                 ha='center', va='bottom', fontsize=9)"
   ]
  },
  {
   "cell_type": "markdown",
   "metadata": {},
   "source": [
    "### Observations\n",
    "1. The standards for annual average are exceeded only for PM2.5.\n",
    "2. The observed values for NO2 are relatively close to the prescribed standard\n",
    "3. The observed values for SO2 are much less than the annual standard\n",
    "\n",
    "### Conclusion\n",
    "Only two pollutants (NO2 and PM2.5) are considered"
   ]
  },
  {
   "cell_type": "markdown",
   "metadata": {},
   "source": [
    "### Part 2 of Analysis\n",
    "2. **Daily Standards**: For the pollutants of concern on how many days in each year are the daily standards exceeded?\n",
    "\n",
    "NB: The pollutants are NO2 and PM2.5"
   ]
  },
  {
   "cell_type": "markdown",
   "metadata": {},
   "source": [
    "``` \n",
    "USING PM2.5 pollutant\n",
    "intervals\n",
    "a. 0\tto\t60\tμg/m3\n",
    "===> This range represents PM2.5 concentrations below the WHO's \n",
    "annual guideline of 10 µg/m³. It indicates relatively good air \n",
    "quality with minimal health concerns.\n",
    "\n",
    "b. 61\tto\t120\tμg/m3\n",
    "===> This range covers PM2.5 concentrations above the WHO annual \n",
    "guideline but below the 24-hour guideline of 25 µg/m³. It signifies\n",
    "moderate air quality with potential health impacts for sensitive individuals.\n",
    "\n",
    "c. 121\tto\t180\tμg/m3\n",
    "===> This range exceeds both the annual and 24-hour WHO guidelines, \n",
    "indicating poor air quality that may pose health risks to the general population.\n",
    "\n",
    "d. >\t180\tμg/m3\n",
    "===> This represents PM2.5 concentrations significantly above the WHO guidelines,\n",
    "indicating very poor air quality with substantial health risks for the population.\n",
    "```"
   ]
  },
  {
   "cell_type": "code",
   "execution_count": 20,
   "metadata": {},
   "outputs": [],
   "source": [
    "# creating intervals for 2016 with the number of days with PM2.5\n",
    "# concentration falling in that interval\n",
    "a16 = aq2016[(aq2016['PM2.5'] <= 60)][\"PM2.5\"].count()\n",
    "b16 = aq2016[(aq2016['PM2.5'] > 60) & (aq2016['PM2.5'] <= 120)][\"PM2.5\"].count()\n",
    "c16 = aq2016[(aq2016['PM2.5'] > 120) & (aq2016['PM2.5'] <= 180)][\"PM2.5\"].count()\n",
    "d16 = aq2016[(aq2016['PM2.5'] > 180)][\"PM2.5\"].count()\n",
    "\n",
    "dfpb2016 = pd.DataFrame(\n",
    "    {\n",
    "        'Year': '2016',\n",
    "        'PM2.5 Levels': ['less than 60', 'from 61 to 120', 'from 121 to 180', 'greater than 180'],\n",
    "        'number of critical days': [a16, b16, c16, d16]\n",
    "    }\n",
    "    )\n",
    "\n",
    "\n",
    "# creating intervals for 2017 with the number of days with PM2.5\n",
    "# concentration falling in that interval\n",
    "a17 = aq2017[(aq2017['PM2.5'] <= 60)][\"PM2.5\"].count()\n",
    "b17 = aq2017[(aq2017['PM2.5'] > 60) & (aq2017['PM2.5'] <= 120)][\"PM2.5\"].count()\n",
    "c17 = aq2017[(aq2017['PM2.5'] > 120) & (aq2017['PM2.5'] <= 180)][\"PM2.5\"].count()\n",
    "d17 = aq2017[(aq2017['PM2.5'] > 180)][\"PM2.5\"].count()\n",
    "\n",
    "dfpb2017 = pd.DataFrame(\n",
    "    {\n",
    "        'Year': '2017',\n",
    "        'PM2.5 Levels': ['less than 60', 'from 61 to 120', 'from 121 to 180', 'greater than 180'],\n",
    "        'number of critical days': [a17, b17, c17, d17]\n",
    "    }\n",
    "    )\n",
    "\n",
    "\n",
    "# creating intervals for 2018 with the number of days with PM2.5\n",
    "# concentration falling in that interval\n",
    "a18 = aq2018[(aq2018['PM2.5'] <= 60)][\"PM2.5\"].count()\n",
    "b18 = aq2018[(aq2018['PM2.5'] > 60) & (aq2018['PM2.5'] <= 120)][\"PM2.5\"].count()\n",
    "c18 = aq2018[(aq2018['PM2.5'] > 120) & (aq2018['PM2.5'] <= 180)][\"PM2.5\"].count()\n",
    "d18 = aq2018[(aq2018['PM2.5'] > 180)][\"PM2.5\"].count()\n",
    "\n",
    "dfpb2018 = pd.DataFrame(\n",
    "    {\n",
    "        'Year': '2018',\n",
    "        'PM2.5 Levels': ['less than 60', 'from 61 to 120', 'from 121 to 180', 'greater than 180'],\n",
    "        'number of critical days': [a18, b18, c18, d18]\n",
    "    }\n",
    "    )\n",
    "\n",
    "\n",
    "# creating intervals for 2019 with the number of days with PM2.5\n",
    "# concentration falling in that interval\n",
    "a19 = aq2019[(aq2019['PM2.5'] <= 60)][\"PM2.5\"].count()\n",
    "b19 = aq2019[(aq2019['PM2.5'] > 60) & (aq2019['PM2.5'] <= 120)][\"PM2.5\"].count()\n",
    "c19 = aq2019[(aq2019['PM2.5'] > 120) & (aq2019['PM2.5'] <= 180)][\"PM2.5\"].count()\n",
    "d19 = aq2019[(aq2019['PM2.5'] > 180)][\"PM2.5\"].count()\n",
    "\n",
    "dfpb2019 = pd.DataFrame(\n",
    "    {\n",
    "        'Year': '2019',\n",
    "        'PM2.5 Levels': ['less than 60', 'from 61 to 120', 'from 121 to 180', 'greater than 180'],\n",
    "        'number of critical days': [a19, b19, c19, d19]\n",
    "    }\n",
    "    )"
   ]
  },
  {
   "cell_type": "code",
   "execution_count": 21,
   "metadata": {},
   "outputs": [],
   "source": [
    "# plotting a stack bar chart for each year\n",
    "# creating pivot tables\n",
    "dfpivot2016 = dfpb2016.pivot(index=\"Year\", columns=\"PM2.5 Levels\", values=\"number of critical days\")\n",
    "dfpivot2017 = dfpb2017.pivot(index=\"Year\", columns=\"PM2.5 Levels\", values=\"number of critical days\")\n",
    "dfpivot2018 = dfpb2018.pivot(index=\"Year\", columns=\"PM2.5 Levels\", values=\"number of critical days\")\n",
    "dfpivot2019 = dfpb2019.pivot(index=\"Year\", columns=\"PM2.5 Levels\", values=\"number of critical days\")"
   ]
  },
  {
   "cell_type": "code",
   "execution_count": 22,
   "metadata": {},
   "outputs": [
    {
     "data": {
      "text/plain": [
       "Text(0.5, 1.0, '2019')"
      ]
     },
     "execution_count": 22,
     "metadata": {},
     "output_type": "execute_result"
    },
    {
     "data": {
      "image/png": "[encoded data removed]",
      "text/plain": [
       "<Figure size 1500x500 with 4 Axes>"
      ]
     },
     "metadata": {},
     "output_type": "display_data"
    }
   ],
   "source": [
    "# creating the stack bar with the pivot tables\n",
    "fig, (ax1, ax2, ax3, ax4) = plt.subplots(1,4)\n",
    "fig.suptitle(\"Number of Days per Year in each interval\")\n",
    "cmp = plt.colormaps.get_cmap('RdBu')       # don't use double quotes\n",
    "\n",
    "# plotting stack horizontal bar charts for each yearto represent intervals of PM2.5 levels\n",
    "dfpivot2016.loc[:, ['less than 60', 'from 61 to 120', 'from 121 to 180', 'greater than 180']].plot(\n",
    "    kind=\"barh\", stacked=\"True\", cmap=cmp, figsize=(15,5), ax = ax1\n",
    ")\n",
    "dfpivot2017.loc[:, ['less than 60', 'from 61 to 120', 'from 121 to 180', 'greater than 180']].plot(\n",
    "    kind=\"barh\", stacked=\"True\", cmap=cmp, figsize=(15,5), ax = ax2\n",
    ")\n",
    "dfpivot2018.loc[:, ['less than 60', 'from 61 to 120', 'from 121 to 180', 'greater than 180']].plot(\n",
    "    kind=\"barh\", stacked=\"True\", cmap=cmp, figsize=(15,5), ax = ax3\n",
    ")\n",
    "dfpivot2019.loc[:, ['less than 60', 'from 61 to 120', 'from 121 to 180', 'greater than 180']].plot(\n",
    "    kind=\"barh\", stacked=\"True\", cmap=cmp, figsize=(15,5), ax = ax4\n",
    ")\n",
    "\n",
    "# setting properties of the chart ---> legend, y_axis and title\n",
    "ax1.legend().set_visible(\"False\")\n",
    "ax2.legend().set_visible(\"False\")\n",
    "ax3.legend().set_visible(\"False\")\n",
    "ax4.legend(loc=\"center left\", bbox_to_anchor=(1, 0.5))\n",
    "\n",
    "ax1.get_yaxis().set_visible(\"False\")\n",
    "ax2.get_yaxis().set_visible(\"False\")\n",
    "ax3.get_yaxis().set_visible(\"False\")\n",
    "ax4.get_yaxis().set_visible(\"False\")\n",
    "\n",
    "ax1.set_title(\"2016\")\n",
    "ax2.set_title(\"2017\")\n",
    "ax3.set_title(\"2018\")\n",
    "ax4.set_title(\"2019\")\n",
    "\n"
   ]
  },
  {
   "cell_type": "markdown",
   "metadata": {},
   "source": [
    "### Observation:\n",
    "* It is seen that PM2.5 values above 180ug/m^3 are observed every year.\n",
    "* Therefore restrictions on major polluting activities, including traffic, could be confined to this category."
   ]
  },
  {
   "cell_type": "markdown",
   "metadata": {},
   "source": [
    "```\n",
    "USING NO2\n",
    "Likewise, for NO2, the number of days in\teach year on which\n",
    "monitored values exceed\tthe 24-hourly standards\tof 80 μg/m3 is plotted\n",
    "```\n",
    "\n",
    "NB: The statndard threshoold for NO2 is 80 μg/m3"
   ]
  },
  {
   "cell_type": "code",
   "execution_count": 27,
   "metadata": {},
   "outputs": [
    {
     "data": {
      "image/png": "[encoded data removed]",
      "text/plain": [
       "<Figure size 1000x500 with 1 Axes>"
      ]
     },
     "metadata": {},
     "output_type": "display_data"
    }
   ],
   "source": [
    "# calculating the number of days in each year with regard to critical\n",
    "# days of NO2 concentration\n",
    "a =  aq2015[(aq2015[\"NO2\"] >= 80)][\"NO2\"].count()\n",
    "b =  aq2016[(aq2016[\"NO2\"] >= 80)][\"NO2\"].count()\n",
    "c =  aq2017[(aq2017[\"NO2\"] >= 80)][\"NO2\"].count()\n",
    "d =  aq2018[(aq2018[\"NO2\"] >= 80)][\"NO2\"].count()\n",
    "e =  aq2019[(aq2019[\"NO2\"] >= 80)][\"NO2\"].count()\n",
    "\n",
    "# creating a dataframe that captures the no. of days in each year with values\n",
    "# higher than 80ug/m^3\n",
    "dfno = pd.DataFrame(\n",
    "    {\n",
    "        'Years':['2015', '2016', '2017', '2018', '2019'],\n",
    "        'number of days with NO2 > 80ug': [a,b,c,d,e]\n",
    "    }\n",
    ") \n",
    "\n",
    "# ploting bar chart\n",
    "ax = dfno.plot(kind=\"bar\", figsize=(10,5))\n",
    "ax.set_xticklabels(['2015', '2016', '2017', '2018', '2019'])\n",
    "ax.set_title(\"NO2 number of days in each year with critical level of concentration\")\n",
    "\n",
    "for p in ax.patches:\n",
    "    ax.annotate(\n",
    "        p.get_height(),         # annotates each bar with its height\n",
    "        (p.get_x() + p.get_width()/2, p.get_height()),      #the specified position.\n",
    "        ha=\"center\", va=\"bottom\"\n",
    "        )"
   ]
  },
  {
   "cell_type": "markdown",
   "metadata": {},
   "source": [
    "### Observation:\n",
    "1. The 24-hourly NO2 values are exceeded only for three of the five years(2015, 2016, 2017, 2018, 2019)\n",
    "2. Since observed 24-hourly NO2 values exceed standard only marginally and that too only for a few days "
   ]
  },
  {
   "cell_type": "markdown",
   "metadata": {},
   "source": [
    "### Part 3 of Analysis:\n",
    "3. **Temporal Variation**: Which are the months where the pollution levels exceed critical levels on most days?"
   ]
  },
  {
   "cell_type": "markdown",
   "metadata": {},
   "source": [
    "```\n",
    "Before imposing restrictions on activities like vehicular traffic and construction, which significantly contribute to ambient PM2.5\n",
    "concetrations, it is necessary to provide sufficient notice to avoid inconvenience to the general public.\n",
    "```"
   ]
  },
  {
   "cell_type": "code",
   "execution_count": 37,
   "metadata": {},
   "outputs": [],
   "source": [
    "# creating dataframes for each year with the number of days in each \n",
    "# month were PM2.5 values exceed 180ug/m^3\n",
    "\n",
    "# 2016 ========================>\n",
    "# extracting the month\n",
    "aq2016.loc[:,'Month'] = pd.DatetimeIndex(aq2016['From Date']).month\n",
    "# creating boolean column that is True when PM2.5 value is greater than 180\n",
    "aq2016.loc[:,\"Condition\"] = (aq2016['PM2.5'] >= 180)\n",
    "# replacing the false values with null\n",
    "aq2016.loc[:,\"Condition\"] = aq2016[\"Condition\"].replace({False:np.nan})\n",
    "# calculating the number of days for each month that satisfies the condition (PM2.5>180)\n",
    "selection_2016 = aq2016.groupby('Month')['Condition'].count()\n",
    "\n",
    "\n",
    "# 2017 =========================>\n",
    "# extracting the month\n",
    "aq2017.loc[:,'Month'] = pd.DatetimeIndex(aq2017['From Date']).month\n",
    "# creating boolean column that is True when PM2.5 value is greater than 180\n",
    "aq2017.loc[:,\"Condition\"] = (aq2017['PM2.5'] >= 180)\n",
    "# replacing the false values with null\n",
    "aq2017.loc[:,\"Condition\"] = aq2017[\"Condition\"].replace({False:np.nan})\n",
    "# calculating the number of days for each month that satisfies the condition (PM2.5>180)\n",
    "selection_2017 = aq2017.groupby('Month')['Condition'].count()\n",
    "\n",
    "\n",
    "# 2018 =========================>\n",
    "# extracting the month\n",
    "aq2018.loc[:,'Month'] = pd.DatetimeIndex(aq2018['From Date']).month\n",
    "# creating boolean column that is True when PM2.5 value is greater than 180\n",
    "aq2018.loc[:,\"Condition\"] = (aq2018['PM2.5'] >= 180)\n",
    "# replacing the false values with null\n",
    "aq2018.loc[:,\"Condition\"] = aq2018[\"Condition\"].replace({False:np.nan})\n",
    "# calculating the number of days for each month that satisfies the condition (PM2.5>180)\n",
    "selection_2018 = aq2018.groupby('Month')['Condition'].count()\n",
    "\n",
    "# 2019 =========================>\n",
    "# extracting the month\n",
    "aq2019.loc[:,'Month'] = pd.DatetimeIndex(aq2019['From Date']).month\n",
    "# creating boolean column that is True when PM2.5 value is greater than 180\n",
    "aq2019.loc[:,\"Condition\"] = (aq2019['PM2.5'] >= 180)\n",
    "# replacing the false values with null\n",
    "aq2019.loc[:,\"Condition\"] = aq2019[\"Condition\"].replace({False:np.nan})\n",
    "# calculating the number of days for each month that satisfies the condition (PM2.5>180)\n",
    "selection_2019 = aq2019.groupby('Month')['Condition'].count()"
   ]
  },
  {
   "cell_type": "code",
   "execution_count": 38,
   "metadata": {},
   "outputs": [
    {
     "data": {
      "text/html": [
       "<div>\n",
       "<style scoped>\n",
       "    .dataframe tbody tr th:only-of-type {\n",
       "        vertical-align: middle;\n",
       "    }\n",
       "\n",
       "    .dataframe tbody tr th {\n",
       "        vertical-align: top;\n",
       "    }\n",
       "\n",
       "    .dataframe thead th {\n",
       "        text-align: right;\n",
       "    }\n",
       "</style>\n",
       "<table border=\"1\" class=\"dataframe\">\n",
       "  <thead>\n",
       "    <tr style=\"text-align: right;\">\n",
       "      <th></th>\n",
       "      <th>2016</th>\n",
       "      <th>2017</th>\n",
       "      <th>2018</th>\n",
       "      <th>2019</th>\n",
       "    </tr>\n",
       "    <tr>\n",
       "      <th>Month</th>\n",
       "      <th></th>\n",
       "      <th></th>\n",
       "      <th></th>\n",
       "      <th></th>\n",
       "    </tr>\n",
       "  </thead>\n",
       "  <tbody>\n",
       "    <tr>\n",
       "      <th>1</th>\n",
       "      <td>20</td>\n",
       "      <td>3</td>\n",
       "      <td>23</td>\n",
       "      <td>14</td>\n",
       "    </tr>\n",
       "    <tr>\n",
       "      <th>2</th>\n",
       "      <td>3</td>\n",
       "      <td>0</td>\n",
       "      <td>5</td>\n",
       "      <td>3</td>\n",
       "    </tr>\n",
       "    <tr>\n",
       "      <th>3</th>\n",
       "      <td>1</td>\n",
       "      <td>7</td>\n",
       "      <td>0</td>\n",
       "      <td>0</td>\n",
       "    </tr>\n",
       "    <tr>\n",
       "      <th>4</th>\n",
       "      <td>3</td>\n",
       "      <td>1</td>\n",
       "      <td>0</td>\n",
       "      <td>1</td>\n",
       "    </tr>\n",
       "    <tr>\n",
       "      <th>5</th>\n",
       "      <td>3</td>\n",
       "      <td>1</td>\n",
       "      <td>0</td>\n",
       "      <td>2</td>\n",
       "    </tr>\n",
       "    <tr>\n",
       "      <th>6</th>\n",
       "      <td>7</td>\n",
       "      <td>5</td>\n",
       "      <td>4</td>\n",
       "      <td>1</td>\n",
       "    </tr>\n",
       "    <tr>\n",
       "      <th>7</th>\n",
       "      <td>2</td>\n",
       "      <td>0</td>\n",
       "      <td>0</td>\n",
       "      <td>0</td>\n",
       "    </tr>\n",
       "    <tr>\n",
       "      <th>8</th>\n",
       "      <td>0</td>\n",
       "      <td>0</td>\n",
       "      <td>0</td>\n",
       "      <td>0</td>\n",
       "    </tr>\n",
       "    <tr>\n",
       "      <th>9</th>\n",
       "      <td>2</td>\n",
       "      <td>0</td>\n",
       "      <td>0</td>\n",
       "      <td>0</td>\n",
       "    </tr>\n",
       "    <tr>\n",
       "      <th>10</th>\n",
       "      <td>5</td>\n",
       "      <td>9</td>\n",
       "      <td>5</td>\n",
       "      <td>4</td>\n",
       "    </tr>\n",
       "    <tr>\n",
       "      <th>11</th>\n",
       "      <td>13</td>\n",
       "      <td>21</td>\n",
       "      <td>7</td>\n",
       "      <td>11</td>\n",
       "    </tr>\n",
       "    <tr>\n",
       "      <th>12</th>\n",
       "      <td>4</td>\n",
       "      <td>16</td>\n",
       "      <td>11</td>\n",
       "      <td>18</td>\n",
       "    </tr>\n",
       "  </tbody>\n",
       "</table>\n",
       "</div>"
      ],
      "text/plain": [
       "       2016  2017  2018  2019\n",
       "Month                        \n",
       "1        20     3    23    14\n",
       "2         3     0     5     3\n",
       "3         1     7     0     0\n",
       "4         3     1     0     1\n",
       "5         3     1     0     2\n",
       "6         7     5     4     1\n",
       "7         2     0     0     0\n",
       "8         0     0     0     0\n",
       "9         2     0     0     0\n",
       "10        5     9     5     4\n",
       "11       13    21     7    11\n",
       "12        4    16    11    18"
      ]
     },
     "execution_count": 38,
     "metadata": {},
     "output_type": "execute_result"
    }
   ],
   "source": [
    "# concatenating all the above dataframes into one object\n",
    "# to get a consolidated picture of the number of days in each month\n",
    "selections = pd.DataFrame(\n",
    "    {\n",
    "        \"2016\": selection_2016,\n",
    "        \"2017\": selection_2017,\n",
    "        \"2018\": selection_2018,\n",
    "        \"2019\": selection_2019\n",
    "    }\n",
    ")\n",
    "\n",
    "selections"
   ]
  },
  {
   "cell_type": "markdown",
   "metadata": {},
   "source": [
    "### Inference:\n",
    "Month 1 (January), Month 11 (November) and month 12 (December) are the most critical months for all the four years as these months had the highest number of days with PM2.5 > 180ug/m^3 "
   ]
  },
  {
   "cell_type": "code",
   "execution_count": 64,
   "metadata": {},
   "outputs": [
    {
     "name": "stderr",
     "output_type": "stream",
     "text": [
      "C:\\Users\\DELL\\AppData\\Local\\Temp\\ipykernel_5720\\3051711248.py:7: UserWarning: Legend does not support handles for str instances.\n",
      "A proxy artist may be used instead.\n",
      "See: https://matplotlib.org/stable/tutorials/intermediate/legend_guide.html#controlling-the-legend-entries\n",
      "  ax.legend(patterns, [\"2016\", \"2017\", \"2018\", \"2019\"])\n"
     ]
    },
    {
     "data": {
      "image/png": "[encoded data removed]",
      "text/plain": [
       "<Figure size 2000x700 with 1 Axes>"
      ]
     },
     "metadata": {},
     "output_type": "display_data"
    }
   ],
   "source": [
    "# Visualizing the above inference using bar chart\n",
    "ax = selections.plot(kind=\"bar\", figsize=(20,7), width=0.7, align=\"center\", colormap= 'viridis')\n",
    "bars = ax.patches\n",
    "\n",
    "# craeting partterns to represent each year\n",
    "patterns = [\"-\", \"x\", \"/\", \"o\"]\n",
    "ax.legend(patterns, [\"2016\", \"2017\", \"2018\", \"2019\"])\n",
    "hatches = [p for p in patterns for i in range(len(selections))]\n",
    "# setting a parttern for each bar\n",
    "for bar, hatch in zip(bars, hatches):\n",
    "    bar.set_hatch(hatch)\n",
    "\n",
    "# labelling the months, x_axis and y_axis\n",
    "ax.set_xticklabels([\"Jan\",\"Feb\", \"Mar\", \"Apr\", \"May\",\"Jun\",\"Jul\",\"Aug\",\"Sep\",\"Oct\",\"Nov\",\"Dec\"])\n",
    "ax.set_xlabel(\"Month\", fontsize=12)\n",
    "ax.set_ylabel(\"Number of days with critical levels of PM2.5\", fontsize=12)\n",
    "\n",
    "# labelling the bars\n",
    "for bar in bars:\n",
    "    ax.text(\n",
    "        bar.get_x() - 0.003,\n",
    "        bar.get_height() + 0.3,\n",
    "        round(bar.get_height(), 2),\n",
    "        fontsize=10,\n",
    "        color=\"black\"\n",
    "    )\n",
    "\n",
    "ax.legend()\n",
    "ax.set_title(\"Number of days with critical levels of PM2.5 in each monthof the year 2016 - 2019\")\n",
    "\n",
    "plt.show()"
   ]
  },
  {
   "cell_type": "markdown",
   "metadata": {},
   "source": [
    "### Observation:\n",
    "1. Most of the polluted days fall in January, November and December.\n",
    "\n",
    "### Conclusion:\n",
    "Based on the daily average concentrations of PM2.5 recorded over the past four years, restrictions on vehicular traffic, construction activities are likely to be imposed in January, November and December."
   ]
  }
 ],
 "metadata": {
  "kernelspec": {
   "display_name": "Python 3",
   "language": "python",
   "name": "python3"
  },
  "language_info": {
   "codemirror_mode": {
    "name": "ipython",
    "version": 3
   },
   "file_extension": ".py",
   "mimetype": "text/x-python",
   "name": "python",
   "nbconvert_exporter": "python",
   "pygments_lexer": "ipython3",
   "version": "3.11.0"
  },
  "orig_nbformat": 4
 },
 "nbformat": 4,
 "nbformat_minor": 2
}
